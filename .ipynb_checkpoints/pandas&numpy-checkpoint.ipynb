{
 "cells": [
  {
   "cell_type": "code",
   "execution_count": 2,
   "id": "6b83e72b",
   "metadata": {},
   "outputs": [],
   "source": [
    "import pandas as pd\n",
    "import numpy as np"
   ]
  },
  {
   "cell_type": "code",
   "execution_count": 18,
   "id": "6dfc2b37",
   "metadata": {},
   "outputs": [],
   "source": [
    "num1 = np.array([[1,2,3],[2,4,6],[3,4,5]])\n",
    "num2 = np.array([[3,4,5],[4,6,8],[5,6,7]])"
   ]
  },
  {
   "cell_type": "code",
   "execution_count": 19,
   "id": "92f3619b",
   "metadata": {},
   "outputs": [
    {
     "name": "stdout",
     "output_type": "stream",
     "text": [
      "[[1 2 3]\n",
      " [2 4 6]\n",
      " [3 4 5]]\n",
      "[[3 4 5]\n",
      " [4 6 8]\n",
      " [5 6 7]]\n"
     ]
    }
   ],
   "source": [
    "print(num1)\n",
    "print(num2)"
   ]
  },
  {
   "cell_type": "markdown",
   "id": "a1479795",
   "metadata": {},
   "source": [
    "## mean() 求均值"
   ]
  },
  {
   "cell_type": "code",
   "execution_count": 20,
   "id": "d0a5271c",
   "metadata": {},
   "outputs": [
    {
     "data": {
      "text/plain": [
       "3.3333333333333335"
      ]
     },
     "execution_count": 20,
     "metadata": {},
     "output_type": "execute_result"
    }
   ],
   "source": [
    "np.mean(num1)"
   ]
  },
  {
   "cell_type": "code",
   "execution_count": 21,
   "id": "79c06614",
   "metadata": {},
   "outputs": [
    {
     "data": {
      "text/plain": [
       "5.333333333333333"
      ]
     },
     "execution_count": 21,
     "metadata": {},
     "output_type": "execute_result"
    }
   ],
   "source": [
    "np.mean(num2)"
   ]
  },
  {
   "cell_type": "markdown",
   "id": "d4ab7d4b",
   "metadata": {},
   "source": [
    "**压缩行，对各列求均值**"
   ]
  },
  {
   "cell_type": "code",
   "execution_count": 22,
   "id": "0268e65b",
   "metadata": {},
   "outputs": [
    {
     "name": "stdout",
     "output_type": "stream",
     "text": [
      "[2.         3.33333333 4.66666667] [4.         5.33333333 6.66666667]\n"
     ]
    }
   ],
   "source": [
    "h1 = np.mean(num1, 0)\n",
    "h2 = np.mean(num2, 0)\n",
    "print(h1, h2)"
   ]
  },
  {
   "cell_type": "markdown",
   "id": "67525a32",
   "metadata": {},
   "source": [
    "**压缩列，对各行求均值**"
   ]
  },
  {
   "cell_type": "code",
   "execution_count": 23,
   "id": "d3e15071",
   "metadata": {},
   "outputs": [
    {
     "name": "stdout",
     "output_type": "stream",
     "text": [
      "[2. 4. 4.] [4. 6. 6.]\n"
     ]
    }
   ],
   "source": [
    "l1 = np.mean(num1, 1)\n",
    "l2 = np.mean(num2, 1)\n",
    "print(l1, l2)"
   ]
  },
  {
   "cell_type": "markdown",
   "id": "94b2617c",
   "metadata": {},
   "source": [
    "## dataframe.std()\n",
    "\n",
    "**函数返回请求轴上的样品标准偏差。**\n",
    "\n",
    "用法：DataFrame.std(axis=None, skipna=None, level=None, ddof=1, numeric_only=None, **kwargs)\n",
    "\n",
    "参数：\n",
    "\n",
    "axis:{索引(0)，列(1)}\n",
    "\n",
    "skipna:排除NA /空值。如果整个行/列均为NA，则结果为NA\n",
    "\n",
    "level:如果轴是MultiIndex(分层)，则沿特定级别计数，并折叠为Series\n",
    "\n",
    "ddof:Delta自由度。计算中使用的除数为N-ddof，其中N表示元素数。\n",
    "\n",
    "numeric_only:仅包括float，int，boolean列。如果为None，将尝试使用所有内容，然后仅使用数字数据。未针对系列实施。"
   ]
  },
  {
   "cell_type": "code",
   "execution_count": 25,
   "id": "14e41385",
   "metadata": {},
   "outputs": [
    {
     "data": {
      "text/plain": [
       "array([0.81649658, 0.94280904, 1.24721913])"
      ]
     },
     "execution_count": 25,
     "metadata": {},
     "output_type": "execute_result"
    }
   ],
   "source": [
    "num1.std(axis=0)"
   ]
  },
  {
   "cell_type": "markdown",
   "id": "a1bc7f84",
   "metadata": {},
   "source": [
    "## to_list()函数\n",
    "pandas.Series转换成list"
   ]
  },
  {
   "cell_type": "code",
   "execution_count": 4,
   "id": "3e3732b6",
   "metadata": {},
   "outputs": [
    {
     "name": "stdout",
     "output_type": "stream",
     "text": [
      "[0.0, 1.0, 2.0, 3.0, 4.0, 5.0, 6.0]\n"
     ]
    }
   ],
   "source": [
    "s = pd.Series(data=np.arange(7), dtype=np.float32, index=list('abcdefg'))\n",
    "s\n",
    "l = []\n",
    "l = s.to_list()\n",
    "print(l)"
   ]
  }
 ],
 "metadata": {
  "kernelspec": {
   "display_name": "Python 3",
   "language": "python",
   "name": "python3"
  },
  "language_info": {
   "codemirror_mode": {
    "name": "ipython",
    "version": 3
   },
   "file_extension": ".py",
   "mimetype": "text/x-python",
   "name": "python",
   "nbconvert_exporter": "python",
   "pygments_lexer": "ipython3",
   "version": "3.7.9"
  }
 },
 "nbformat": 4,
 "nbformat_minor": 5
}
