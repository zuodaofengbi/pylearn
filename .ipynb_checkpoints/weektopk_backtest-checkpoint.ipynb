{
 "cells": [
  {
   "cell_type": "code",
   "execution_count": 1,
   "metadata": {},
   "outputs": [],
   "source": [
    "import sys, os\n",
    "import numpy as np\n",
    "import pandas as pd\n",
    "import qlib"
   ]
  },
  {
   "cell_type": "code",
   "execution_count": 2,
   "metadata": {},
   "outputs": [
    {
     "name": "stdout",
     "output_type": "stream",
     "text": [
      "D:\\py\\qlib\\scripts\\get_data.py\n"
     ]
    }
   ],
   "source": [
    "from pathlib import Path\n",
    "scripts_dir = Path(\"D:/py/qlib/scripts\")\n",
    "print(scripts_dir.joinpath(\"get_data.py\"))\n",
    "assert scripts_dir.joinpath(\"get_data.py\").exists()"
   ]
  },
  {
   "cell_type": "code",
   "execution_count": 3,
   "metadata": {},
   "outputs": [],
   "source": [
    "if not scripts_dir.joinpath(\"get_data.py\").exists():\n",
    "    # download get_data.py script\n",
    "    scripts_dir = Path(\"~/tmp/qlib_code/scripts\").expanduser().resolve()\n",
    "    scripts_dir.mkdir(parents=True, exist_ok=True)\n",
    "    import requests\n",
    "    with requests.get(\"https://raw.githubusercontent.com/microsoft/qlib/main/scripts/get_data.py\") as resp:\n",
    "        with open(scripts_dir.joinpath(\"get_data.py\"), \"wb\") as fp:\n",
    "            fp.write(resp.content)"
   ]
  },
  {
   "cell_type": "code",
   "execution_count": 4,
   "metadata": {},
   "outputs": [],
   "source": [
    "from qlib.constant import REG_CN\n",
    "from qlib.utils import exists_qlib_data, init_instance_by_config\n",
    "from qlib.workflow import R\n",
    "from qlib.workflow.record_temp import SignalRecord, PortAnaRecord\n",
    "from qlib.utils import flatten_dict"
   ]
  },
  {
   "cell_type": "code",
   "execution_count": 5,
   "metadata": {},
   "outputs": [
    {
     "name": "stderr",
     "output_type": "stream",
     "text": [
      "[6848:MainThread](2022-07-25 14:59:28,936) INFO - qlib.Initialization - [config.py:403] - default_conf: client.\n",
      "[6848:MainThread](2022-07-25 14:59:28,940) INFO - qlib.Initialization - [__init__.py:73] - qlib successfully initialized based on client settings.\n",
      "[6848:MainThread](2022-07-25 14:59:28,941) INFO - qlib.Initialization - [__init__.py:75] - data_path={'__DEFAULT_FREQ': WindowsPath('D:/py/qlib/.qlib/qlib_data/cn_data')}\n"
     ]
    }
   ],
   "source": [
    "provider_uri = \"D:/py/qlib/.qlib/qlib_data/cn_data\"  # target_dir\n",
    "# if not exists_qlib_data(provider_uri):\n",
    "#     print(f\"Qlib data is not found in {provider_uri}\")\n",
    "#     sys.path.append(str(scripts_dir))\n",
    "#     from get_data import GetData\n",
    "#     GetData().qlib_data(target_dir=provider_uri, region=REG_CN)\n",
    "qlib.init(provider_uri=provider_uri, region=REG_CN)"
   ]
  },
  {
   "cell_type": "code",
   "execution_count": 6,
   "metadata": {},
   "outputs": [],
   "source": [
    "market = \"all\"\n",
    "benchmark = \"SH000300\""
   ]
  },
  {
   "cell_type": "code",
   "execution_count": 7,
   "metadata": {},
   "outputs": [],
   "source": [
    "from qlib.data import D\n",
    "from qlib.data.filter import ExpressionDFilter\n",
    "from qlib.data.filter import NameDFilter"
   ]
  },
  {
   "cell_type": "code",
   "execution_count": 8,
   "metadata": {},
   "outputs": [
    {
     "name": "stdout",
     "output_type": "stream",
     "text": [
      "2021-01-04 00:00:00 2021-06-11 00:00:00\n",
      "2021-01-04 2021-06-11\n"
     ]
    }
   ],
   "source": [
    "instruments = D.instruments(market='all')\n",
    "fields = ['$close', '(Ref($close, -1)-$close)/$close', '(Ref($close, -2)-Ref($close, -1))/Ref($close, -1)', '(Ref($close, -3)-Ref($close, -2))/Ref($close, -2)', '(Ref($close, -4)-Ref($close, -3))/Ref($close, -3)', '(Ref($close, -5)-Ref($close, -4))/Ref($close, -4)', '(Ref($close, -6)-Ref($close, -5))/Ref($close, -5)', '(Ref($close, -7)-Ref($close, -6))/Ref($close, -6)']\n",
    "f_d = D.features(instruments, fields, start_time='2021-01-04', end_time='2021-06-11', freq='day')\n",
    "df = f_d\n",
    "df.index = df.index.get_level_values('datetime')\n",
    "print(df.index.min(), df.index.max())\n",
    "\n",
    "start_time = pd.to_datetime(df.index.min())\n",
    "end_time = pd.to_datetime(df.index.max())\n",
    "print(start_time.strftime('%Y-%m-%d'), end_time.strftime('%Y-%m-%d'))"
   ]
  },
  {
   "cell_type": "code",
   "execution_count": 11,
   "metadata": {},
   "outputs": [],
   "source": [
    "experiment_name=\"online_srv\""
   ]
  },
  {
   "cell_type": "code",
   "execution_count": 12,
   "metadata": {},
   "outputs": [
    {
     "name": "stderr",
     "output_type": "stream",
     "text": [
      "[6848:MainThread](2022-07-25 15:03:15,572) INFO - qlib.LSTM - [pytorch_lstm.py:58] - LSTM pytorch version...\n",
      "[6848:MainThread](2022-07-25 15:03:15,573) INFO - qlib.LSTM - [pytorch_lstm.py:104] - LSTM parameters setting:\n",
      "d_feat : 6\n",
      "hidden_size : 64\n",
      "num_layers : 2\n",
      "dropout : 0.1\n",
      "n_epochs : 15\n",
      "lr : 1e-05\n",
      "metric : loss\n",
      "batch_size : 800\n",
      "early_stop : 3\n",
      "optimizer : adam\n",
      "loss_type : mse\n",
      "visible_GPU : 0\n",
      "use_GPU : False\n",
      "seed : None\n",
      "d:\\Python37\\lib\\site-packages\\qlib\\utils\\__init__.py:689: FutureWarning: MultiIndex.is_lexsorted is deprecated as a public function, users should use MultiIndex.is_monotonic_increasing instead.\n",
      "  if idx.is_monotonic_increasing and not (isinstance(idx, pd.MultiIndex) and not idx.is_lexsorted()):\n",
      "[6848:MainThread](2022-07-25 15:12:06,729) INFO - qlib.timer - [log.py:113] - Time cost: 531.150s | Loading data Done\n",
      "d:\\Python37\\lib\\site-packages\\numpy\\lib\\nanfunctions.py:997: RuntimeWarning: All-NaN slice encountered\n",
      "  result = np.apply_along_axis(_nanmedian1d, axis, a, overwrite_input)\n",
      "[6848:MainThread](2022-07-25 15:12:16,265) INFO - qlib.timer - [log.py:113] - Time cost: 8.645s | RobustZScoreNorm Done\n",
      "[6848:MainThread](2022-07-25 15:12:16,658) INFO - qlib.timer - [log.py:113] - Time cost: 0.392s | Fillna Done\n",
      "[6848:MainThread](2022-07-25 15:12:17,306) INFO - qlib.timer - [log.py:113] - Time cost: 0.435s | DropnaLabel Done\n",
      "d:\\Python37\\lib\\site-packages\\pandas\\core\\frame.py:3641: SettingWithCopyWarning: \n",
      "A value is trying to be set on a copy of a slice from a DataFrame.\n",
      "Try using .loc[row_indexer,col_indexer] = value instead\n",
      "\n",
      "See the caveats in the documentation: https://pandas.pydata.org/pandas-docs/stable/user_guide/indexing.html#returning-a-view-versus-a-copy\n",
      "  self[k1] = value[k2]\n",
      "[6848:MainThread](2022-07-25 15:12:17,724) INFO - qlib.timer - [log.py:113] - Time cost: 0.417s | CSRankNorm Done\n",
      "[6848:MainThread](2022-07-25 15:12:17,798) INFO - qlib.timer - [log.py:113] - Time cost: 11.068s | fit & process data Done\n",
      "[6848:MainThread](2022-07-25 15:12:17,800) INFO - qlib.timer - [log.py:113] - Time cost: 542.222s | Init data Done\n"
     ]
    }
   ],
   "source": [
    "###################################\n",
    "# train model\n",
    "###################################\n",
    "# '2017-01-04', end_time='2022-02-28'\n",
    "data_handler_config = {\n",
    "    # \"start_time\": \"2017-01-04\",\n",
    "    \"start_time\": start_time, # \n",
    "    \"end_time\": end_time,\n",
    "    \"fit_start_time\": \"2021-01-04\",\n",
    "    \"fit_end_time\": \"2021-04-30\",\n",
    "    \"instruments\": market,\n",
    "    \"infer_processors\": [\n",
    "      {\n",
    "        \"class\": \"RobustZScoreNorm\",\n",
    "        \"kwargs\": {\n",
    "          \"fields_group\": \"feature\",\n",
    "          \"clip_outlier\": True\n",
    "        }\n",
    "      },\n",
    "      {\n",
    "        \"class\": \"Fillna\",\n",
    "        \"kwargs\": {\n",
    "          \"fields_group\": \"feature\"\n",
    "        }\n",
    "      }\n",
    "    ],\n",
    "    \"learn_processors\": [\n",
    "      {\n",
    "        \"class\": \"DropnaLabel\"\n",
    "      },\n",
    "      {\n",
    "        \"class\": \"CSRankNorm\",\n",
    "        \"kwargs\": {\n",
    "          \"fields_group\": \"label\"\n",
    "        }\n",
    "      }\n",
    "    ],\n",
    "    \"label\": [\n",
    "      \"Ref($close, -2) / Ref($close, -1) - 1\"\n",
    "    ]\n",
    "}\n",
    "\n",
    "task = {   \n",
    "    \"model\": {\n",
    "        \"class\": \"LSTM\",\n",
    "        \"module_path\": \"qlib.contrib.model.pytorch_lstm\",\n",
    "        \"kwargs\": {\n",
    "            \"d_feat\": 6,\n",
    "            \"hidden_size\": 64,\n",
    "            \"num_layers\": 2,\n",
    "            \"dropout\": 0.1,\n",
    "            \"dec_dropout\": 0.0,\n",
    "            \"n_epochs\": 15,\n",
    "            \"lr\": 1e-5,\n",
    "            \"early_stop\": 3,\n",
    "            \"batch_size\": 800,\n",
    "            \"metric\": \"loss\",\n",
    "            \"loss\": \"mse\",\n",
    "            \"optimizer\": \"adam\",\n",
    "            \"GPU\": 0\n",
    "        },\n",
    "    },\n",
    "    \"dataset\": {\n",
    "        \"class\": \"DatasetH\",\n",
    "        \"module_path\": \"qlib.data.dataset\",\n",
    "        \"kwargs\": {\n",
    "            \"handler\": {\n",
    "                \"class\": \"Alpha360\",\n",
    "                \"module_path\": \"qlib.contrib.data.handler\",\n",
    "                \"kwargs\": data_handler_config,\n",
    "            },\n",
    "            \"segments\": {\n",
    "                \"train\": (start_time, \"2021-04-30\"),\n",
    "                \"valid\": (\"2021-05-01\", \"2021-05-19\"),\n",
    "                \"test\": (\"2021-05-20\", \"2021-06-11\"),\n",
    "            },\n",
    "        },\n",
    "    },\n",
    "}\n",
    "\n",
    "# model initiaiton\n",
    "model = init_instance_by_config(task[\"model\"])\n",
    "dataset = init_instance_by_config(task[\"dataset\"])"
   ]
  },
  {
   "cell_type": "code",
   "execution_count": 13,
   "metadata": {},
   "outputs": [
    {
     "name": "stderr",
     "output_type": "stream",
     "text": [
      "[6848:MainThread](2022-07-25 15:12:17,849) INFO - qlib.workflow - [expm.py:318] - <mlflow.tracking.client.MlflowClient object at 0x000002600DD65648>\n",
      "[6848:MainThread](2022-07-25 15:12:17,873) WARNING - qlib.workflow - [expm.py:198] - No valid experiment found. Create a new experiment with name online_srv.\n",
      "[6848:MainThread](2022-07-25 15:12:17,881) INFO - qlib.workflow - [exp.py:257] - Experiment 1 starts running ...\n",
      "[6848:MainThread](2022-07-25 15:12:18,129) INFO - qlib.workflow - [recorder.py:293] - Recorder 097522e0f3de4c0a925e0e31e5173db3 starts running under Experiment 1 ...\n",
      "[6848:MainThread](2022-07-25 15:12:19,578) INFO - qlib.LSTM - [pytorch_lstm.py:236] - training...\n",
      "[6848:MainThread](2022-07-25 15:12:19,580) INFO - qlib.LSTM - [pytorch_lstm.py:240] - Epoch0:\n",
      "[6848:MainThread](2022-07-25 15:12:19,581) INFO - qlib.LSTM - [pytorch_lstm.py:241] - training...\n",
      "[6848:MainThread](2022-07-25 15:17:04,110) INFO - qlib.LSTM - [pytorch_lstm.py:243] - evaluating...\n",
      "[6848:MainThread](2022-07-25 15:19:17,009) INFO - qlib.LSTM - [pytorch_lstm.py:246] - train -0.996146, valid -0.996042\n",
      "[6848:MainThread](2022-07-25 15:19:17,013) INFO - qlib.LSTM - [pytorch_lstm.py:240] - Epoch1:\n",
      "[6848:MainThread](2022-07-25 15:19:17,015) INFO - qlib.LSTM - [pytorch_lstm.py:241] - training...\n",
      "[6848:MainThread](2022-07-25 15:23:53,700) INFO - qlib.LSTM - [pytorch_lstm.py:243] - evaluating...\n",
      "[6848:MainThread](2022-07-25 15:26:06,678) INFO - qlib.LSTM - [pytorch_lstm.py:246] - train -0.995339, valid -0.995387\n",
      "[6848:MainThread](2022-07-25 15:26:06,681) INFO - qlib.LSTM - [pytorch_lstm.py:240] - Epoch2:\n",
      "[6848:MainThread](2022-07-25 15:26:06,682) INFO - qlib.LSTM - [pytorch_lstm.py:241] - training...\n",
      "[6848:MainThread](2022-07-25 15:30:45,802) INFO - qlib.LSTM - [pytorch_lstm.py:243] - evaluating...\n",
      "[6848:MainThread](2022-07-25 15:32:57,879) INFO - qlib.LSTM - [pytorch_lstm.py:246] - train -0.994772, valid -0.995037\n",
      "[6848:MainThread](2022-07-25 15:32:57,882) INFO - qlib.LSTM - [pytorch_lstm.py:240] - Epoch3:\n",
      "[6848:MainThread](2022-07-25 15:32:57,883) INFO - qlib.LSTM - [pytorch_lstm.py:241] - training...\n",
      "[6848:MainThread](2022-07-25 15:37:34,183) INFO - qlib.LSTM - [pytorch_lstm.py:243] - evaluating...\n",
      "[6848:MainThread](2022-07-25 15:39:46,461) INFO - qlib.LSTM - [pytorch_lstm.py:246] - train -0.994309, valid -0.994850\n",
      "[6848:MainThread](2022-07-25 15:39:46,464) INFO - qlib.LSTM - [pytorch_lstm.py:240] - Epoch4:\n",
      "[6848:MainThread](2022-07-25 15:39:46,466) INFO - qlib.LSTM - [pytorch_lstm.py:241] - training...\n",
      "[6848:MainThread](2022-07-25 15:44:32,182) INFO - qlib.LSTM - [pytorch_lstm.py:243] - evaluating...\n",
      "[6848:MainThread](2022-07-25 15:46:46,165) INFO - qlib.LSTM - [pytorch_lstm.py:246] - train -0.993905, valid -0.994734\n",
      "[6848:MainThread](2022-07-25 15:46:46,168) INFO - qlib.LSTM - [pytorch_lstm.py:240] - Epoch5:\n",
      "[6848:MainThread](2022-07-25 15:46:46,169) INFO - qlib.LSTM - [pytorch_lstm.py:241] - training...\n",
      "[6848:MainThread](2022-07-25 15:51:25,289) INFO - qlib.LSTM - [pytorch_lstm.py:243] - evaluating...\n",
      "[6848:MainThread](2022-07-25 15:53:31,175) INFO - qlib.LSTM - [pytorch_lstm.py:246] - train -0.993569, valid -0.994710\n",
      "[6848:MainThread](2022-07-25 15:53:31,178) INFO - qlib.LSTM - [pytorch_lstm.py:240] - Epoch6:\n",
      "[6848:MainThread](2022-07-25 15:53:31,179) INFO - qlib.LSTM - [pytorch_lstm.py:241] - training...\n",
      "[6848:MainThread](2022-07-25 15:57:41,074) INFO - qlib.LSTM - [pytorch_lstm.py:243] - evaluating...\n",
      "[6848:MainThread](2022-07-25 15:59:41,437) INFO - qlib.LSTM - [pytorch_lstm.py:246] - train -0.993280, valid -0.994721\n",
      "[6848:MainThread](2022-07-25 15:59:41,439) INFO - qlib.LSTM - [pytorch_lstm.py:240] - Epoch7:\n",
      "[6848:MainThread](2022-07-25 15:59:41,440) INFO - qlib.LSTM - [pytorch_lstm.py:241] - training...\n",
      "[6848:MainThread](2022-07-25 16:04:00,111) INFO - qlib.LSTM - [pytorch_lstm.py:243] - evaluating...\n",
      "[6848:MainThread](2022-07-25 16:06:04,362) INFO - qlib.LSTM - [pytorch_lstm.py:246] - train -0.993021, valid -0.994803\n",
      "[6848:MainThread](2022-07-25 16:06:04,363) INFO - qlib.LSTM - [pytorch_lstm.py:240] - Epoch8:\n",
      "[6848:MainThread](2022-07-25 16:06:04,364) INFO - qlib.LSTM - [pytorch_lstm.py:241] - training...\n",
      "[6848:MainThread](2022-07-25 16:10:24,264) INFO - qlib.LSTM - [pytorch_lstm.py:243] - evaluating...\n",
      "[6848:MainThread](2022-07-25 16:12:29,528) INFO - qlib.LSTM - [pytorch_lstm.py:246] - train -0.992798, valid -0.994912\n",
      "[6848:MainThread](2022-07-25 16:12:29,530) INFO - qlib.LSTM - [pytorch_lstm.py:258] - early stop\n",
      "[6848:MainThread](2022-07-25 16:12:29,530) INFO - qlib.LSTM - [pytorch_lstm.py:261] - best score: -0.994710 @ 5\n",
      "[6848:MainThread](2022-07-25 16:12:52,972) INFO - qlib.workflow - [record_temp.py:194] - Signal record 'pred.pkl' has been saved as the artifact of the Experiment 1\n"
     ]
    },
    {
     "name": "stdout",
     "output_type": "stream",
     "text": [
      "'The following are prediction results of the LSTM model.'\n",
      "                          score\n",
      "datetime   instrument          \n",
      "2021-05-20 SH000300    0.037091\n",
      "           SH000903    0.040627\n",
      "           SH600000    0.047179\n",
      "           SH600004    0.039283\n",
      "           SH600006   -0.069650\n"
     ]
    },
    {
     "name": "stderr",
     "output_type": "stream",
     "text": [
      "[6848:MainThread](2022-07-25 16:12:53,513) INFO - qlib.timer - [log.py:113] - Time cost: 0.000s | waiting `async_log` Done\n"
     ]
    }
   ],
   "source": [
    "# start exp to train model\n",
    "\n",
    "experiment_id = 'cn_backtest'\n",
    "# experiment_name: Optional[Text] = None,\n",
    "# recorder_id: Optional[Text] = None,\n",
    "\n",
    "# with R.start(experiment_name=experiment_name, experimen\n",
    "# t_id=experiment_id):\n",
    "with R.start(experiment_name=experiment_name):\n",
    "    R.log_params(**flatten_dict(task))\n",
    "    model.fit(dataset)\n",
    "    R.save_objects(trained_model=model)\n",
    "    rid = R.get_recorder().id\n",
    "    # prediction\n",
    "    recorder = R.get_recorder()\n",
    "    sr = SignalRecord(model, dataset, recorder)\n",
    "    sr.generate()"
   ]
  },
  {
   "cell_type": "code",
   "execution_count": 14,
   "metadata": {},
   "outputs": [
    {
     "name": "stderr",
     "output_type": "stream",
     "text": [
      "[6848:MainThread](2022-07-25 16:12:53,574) INFO - qlib.workflow - [expm.py:318] - <mlflow.tracking.client.MlflowClient object at 0x000002602D0DA148>\n",
      "[6848:MainThread](2022-07-25 16:12:53,581) WARNING - qlib.workflow - [expm.py:198] - No valid experiment found. Create a new experiment with name backtest_analysis.\n",
      "[6848:MainThread](2022-07-25 16:12:53,590) INFO - qlib.workflow - [exp.py:257] - Experiment 2 starts running ...\n",
      "[6848:MainThread](2022-07-25 16:12:53,616) INFO - qlib.workflow - [recorder.py:293] - Recorder 5f617d77783a44f8b054240194e2b13a starts running under Experiment 2 ...\n",
      "[6848:MainThread](2022-07-25 16:13:17,037) INFO - qlib.workflow - [record_temp.py:194] - Signal record 'pred.pkl' has been saved as the artifact of the Experiment 2\n"
     ]
    },
    {
     "name": "stdout",
     "output_type": "stream",
     "text": [
      "'The following are prediction results of the LSTM model.'\n",
      "                          score\n",
      "datetime   instrument          \n",
      "2021-05-20 SH000300    0.037091\n",
      "           SH000903    0.040627\n",
      "           SH600000    0.047179\n",
      "           SH600004    0.039283\n",
      "           SH600006   -0.069650\n"
     ]
    },
    {
     "name": "stderr",
     "output_type": "stream",
     "text": [
      "[6848:MainThread](2022-07-25 16:13:17,078) INFO - qlib.backtest caller - [__init__.py:82] - Create new exchange\n",
      "[6848:MainThread](2022-07-25 16:13:58,954) WARNING - qlib.BaseExecutor - [executor.py:111] - `common_infra` is not set for <qlib.backtest.executor.SimulatorExecutor object at 0x0000026023613F48>\n"
     ]
    },
    {
     "data": {
      "application/vnd.jupyter.widget-view+json": {
       "model_id": "80cf880633344f8788e4c468954d8268",
       "version_major": 2,
       "version_minor": 0
      },
      "text/plain": [
       "backtest loop:   0%|          | 0/9 [00:00<?, ?it/s]"
      ]
     },
     "metadata": {},
     "output_type": "display_data"
    },
    {
     "name": "stderr",
     "output_type": "stream",
     "text": [
      "d:\\Python37\\lib\\site-packages\\qlib\\utils\\__init__.py:689: FutureWarning: MultiIndex.is_lexsorted is deprecated as a public function, users should use MultiIndex.is_monotonic_increasing instead.\n",
      "  if idx.is_monotonic_increasing and not (isinstance(idx, pd.MultiIndex) and not idx.is_lexsorted()):\n",
      "d:\\Python37\\lib\\site-packages\\qlib\\contrib\\strategy\\signal_strategy.py:39: SettingWithCopyWarning: \n",
      "A value is trying to be set on a copy of a slice from a DataFrame.\n",
      "Try using .loc[row_indexer,col_indexer] = value instead\n",
      "\n",
      "See the caveats in the documentation: https://pandas.pydata.org/pandas-docs/stable/user_guide/indexing.html#returning-a-view-versus-a-copy\n",
      "  wha['A_Week_HighAndLow'] = wha.apply(lambda x: x.sum(), axis=1)\n",
      "[6848:MainThread](2022-07-25 16:17:28,364) INFO - qlib.workflow - [record_temp.py:499] - Portfolio analysis record 'port_analysis_1day.pkl' has been saved as the artifact of the Experiment 2\n"
     ]
    },
    {
     "name": "stdout",
     "output_type": "stream",
     "text": [
      "'The following are analysis results of benchmark return(1day).'\n",
      "                       risk\n",
      "mean               0.003644\n",
      "std                0.011369\n",
      "annualized_return  0.867258\n",
      "information_ratio  4.944487\n",
      "max_drawdown      -0.010076\n",
      "'The following are analysis results of the excess return without cost(1day).'\n",
      "                        risk\n",
      "mean                0.029945\n",
      "std                 0.024833\n",
      "annualized_return   7.126985\n",
      "information_ratio  18.602869\n",
      "max_drawdown        0.000000\n",
      "'The following are analysis results of the excess return with cost(1day).'\n",
      "                        risk\n",
      "mean                0.029782\n",
      "std                 0.024904\n",
      "annualized_return   7.088120\n",
      "information_ratio  18.448753\n",
      "max_drawdown        0.000000\n"
     ]
    },
    {
     "name": "stderr",
     "output_type": "stream",
     "text": [
      "[6848:MainThread](2022-07-25 16:17:28,390) INFO - qlib.workflow - [record_temp.py:524] - Indicator analysis record 'indicator_analysis_1day.pkl' has been saved as the artifact of the Experiment 2\n"
     ]
    },
    {
     "name": "stdout",
     "output_type": "stream",
     "text": [
      "'The following are analysis results of indicators(1day).'\n",
      "     value\n",
      "ffr    1.0\n",
      "pa     0.0\n",
      "pos    0.0\n"
     ]
    },
    {
     "name": "stderr",
     "output_type": "stream",
     "text": [
      "[6848:MainThread](2022-07-25 16:17:28,444) INFO - qlib.timer - [log.py:113] - Time cost: 0.040s | waiting `async_log` Done\n"
     ]
    }
   ],
   "source": [
    "###################################\n",
    "# prediction, backtest & analysis\n",
    "###################################\n",
    "port_analysis_config = {\n",
    "    \"executor\": {\n",
    "        \"class\": \"SimulatorExecutor\",\n",
    "        \"module_path\": \"qlib.backtest.executor\",\n",
    "        \"kwargs\": {\n",
    "            \"time_per_step\": \"day\",\n",
    "            \"generate_portfolio_metrics\": True,\n",
    "        },\n",
    "    },\n",
    "    \"strategy\": {\n",
    "        \"class\": \"WeekTopkDropoutStrategy\",\n",
    "        \"module_path\": \"qlib.contrib.strategy.signal_strategy\",\n",
    "        \"kwargs\": {\n",
    "            \"model\": model,\n",
    "            \"dataset\": dataset,\n",
    "            \"topk\": 50,\n",
    "            \"n_drop\": 5,\n",
    "        },\n",
    "    },\n",
    "    \"backtest\": {\n",
    "        \"start_time\": \"2021-05-20\",\n",
    "        \"end_time\": \"2021-06-01\",\n",
    "        \"account\": 100000000,\n",
    "        \"benchmark\": benchmark,\n",
    "        \"exchange_kwargs\": {\n",
    "            \"freq\": \"day\",\n",
    "            \"limit_threshold\": 0.095,\n",
    "            \"deal_price\": \"close\",\n",
    "            \"open_cost\": 0.0005,\n",
    "            \"close_cost\": 0.0015,\n",
    "            \"min_cost\": 5,\n",
    "        },\n",
    "    },\n",
    "}\n",
    "\n",
    "# backtest and analysis\n",
    "with R.start(experiment_name=\"backtest_analysis\"):\n",
    "    recorder = R.get_recorder(recorder_id=rid, experiment_name=\"online_srv\")\n",
    "    model = recorder.load_object(\"trained_model\")\n",
    "\n",
    "    # prediction\n",
    "    recorder = R.get_recorder()\n",
    "    ba_rid = recorder.id\n",
    "    sr = SignalRecord(model, dataset, recorder)\n",
    "    sr.generate()\n",
    "\n",
    "    # backtest & analysis\n",
    "    par = PortAnaRecord(recorder, port_analysis_config, \"day\")\n",
    "    par.generate()"
   ]
  },
  {
   "cell_type": "code",
   "execution_count": 15,
   "metadata": {},
   "outputs": [
    {
     "name": "stdout",
     "output_type": "stream",
     "text": [
      "{'class': 'Recorder', 'id': '5f617d77783a44f8b054240194e2b13a', 'name': 'mlflow_recorder', 'experiment_id': '1', 'start_time': '2022-07-25 16:12:53', 'end_time': '2022-07-25 16:17:28', 'status': 'FINISHED'}\n"
     ]
    }
   ],
   "source": [
    "from qlib.contrib.report import analysis_model, analysis_position\n",
    "from qlib.data import D\n",
    "recorder = R.get_recorder(recorder_id=ba_rid, experiment_name=\"online_srv\")\n",
    "print(recorder)\n",
    "pred_df = recorder.load_object(\"pred.pkl\")\n",
    "pred_df_dates = pred_df.index.get_level_values(level='datetime')\n",
    "report_normal_df = recorder.load_object(\"portfolio_analysis/report_normal_1day.pkl\")\n",
    "positions = recorder.load_object(\"portfolio_analysis/positions_normal_1day.pkl\")\n",
    "analysis_df = recorder.load_object(\"portfolio_analysis/port_analysis_1day.pkl\")"
   ]
  },
  {
   "cell_type": "code",
   "execution_count": 16,
   "metadata": {},
   "outputs": [
    {
     "data": {
      "text/html": [
       "<div>\n",
       "<style scoped>\n",
       "    .dataframe tbody tr th:only-of-type {\n",
       "        vertical-align: middle;\n",
       "    }\n",
       "\n",
       "    .dataframe tbody tr th {\n",
       "        vertical-align: top;\n",
       "    }\n",
       "\n",
       "    .dataframe thead th {\n",
       "        text-align: right;\n",
       "    }\n",
       "</style>\n",
       "<table border=\"1\" class=\"dataframe\">\n",
       "  <thead>\n",
       "    <tr style=\"text-align: right;\">\n",
       "      <th></th>\n",
       "      <th>account</th>\n",
       "      <th>return</th>\n",
       "      <th>total_turnover</th>\n",
       "      <th>turnover</th>\n",
       "      <th>total_cost</th>\n",
       "      <th>cost</th>\n",
       "      <th>value</th>\n",
       "      <th>cash</th>\n",
       "      <th>bench</th>\n",
       "    </tr>\n",
       "    <tr>\n",
       "      <th>datetime</th>\n",
       "      <th></th>\n",
       "      <th></th>\n",
       "      <th></th>\n",
       "      <th></th>\n",
       "      <th></th>\n",
       "      <th></th>\n",
       "      <th></th>\n",
       "      <th></th>\n",
       "      <th></th>\n",
       "    </tr>\n",
       "  </thead>\n",
       "  <tbody>\n",
       "    <tr>\n",
       "      <th>2021-05-20</th>\n",
       "      <td>9.995632e+07</td>\n",
       "      <td>2.466550e-17</td>\n",
       "      <td>8.736507e+07</td>\n",
       "      <td>0.873651</td>\n",
       "      <td>43682.534709</td>\n",
       "      <td>0.000437</td>\n",
       "      <td>8.736507e+07</td>\n",
       "      <td>1.259125e+07</td>\n",
       "      <td>0.002734</td>\n",
       "    </tr>\n",
       "    <tr>\n",
       "      <th>2021-05-21</th>\n",
       "      <td>9.982640e+07</td>\n",
       "      <td>-1.083940e-03</td>\n",
       "      <td>1.111444e+08</td>\n",
       "      <td>0.237898</td>\n",
       "      <td>65255.487381</td>\n",
       "      <td>0.000216</td>\n",
       "      <td>9.166957e+07</td>\n",
       "      <td>8.156830e+06</td>\n",
       "      <td>-0.010076</td>\n",
       "    </tr>\n",
       "    <tr>\n",
       "      <th>2021-05-24</th>\n",
       "      <td>1.027768e+08</td>\n",
       "      <td>2.963750e-02</td>\n",
       "      <td>1.194876e+08</td>\n",
       "      <td>0.083576</td>\n",
       "      <td>73439.649656</td>\n",
       "      <td>0.000082</td>\n",
       "      <td>9.494608e+07</td>\n",
       "      <td>7.830742e+06</td>\n",
       "      <td>0.004176</td>\n",
       "    </tr>\n",
       "    <tr>\n",
       "      <th>2021-05-25</th>\n",
       "      <td>1.062162e+08</td>\n",
       "      <td>3.361199e-02</td>\n",
       "      <td>1.382232e+08</td>\n",
       "      <td>0.182295</td>\n",
       "      <td>88608.195368</td>\n",
       "      <td>0.000148</td>\n",
       "      <td>1.055348e+08</td>\n",
       "      <td>6.813652e+05</td>\n",
       "      <td>0.031595</td>\n",
       "    </tr>\n",
       "    <tr>\n",
       "      <th>2021-05-26</th>\n",
       "      <td>1.084508e+08</td>\n",
       "      <td>2.118614e-02</td>\n",
       "      <td>1.526029e+08</td>\n",
       "      <td>0.135382</td>\n",
       "      <td>104343.490887</td>\n",
       "      <td>0.000148</td>\n",
       "      <td>1.050740e+08</td>\n",
       "      <td>3.376792e+06</td>\n",
       "      <td>0.000397</td>\n",
       "    </tr>\n",
       "    <tr>\n",
       "      <th>2021-05-27</th>\n",
       "      <td>1.133868e+08</td>\n",
       "      <td>4.565754e-02</td>\n",
       "      <td>1.695500e+08</td>\n",
       "      <td>0.156265</td>\n",
       "      <td>119870.500629</td>\n",
       "      <td>0.000143</td>\n",
       "      <td>1.128657e+08</td>\n",
       "      <td>5.211738e+05</td>\n",
       "      <td>0.003315</td>\n",
       "    </tr>\n",
       "    <tr>\n",
       "      <th>2021-05-28</th>\n",
       "      <td>1.195226e+08</td>\n",
       "      <td>5.423392e-02</td>\n",
       "      <td>1.832442e+08</td>\n",
       "      <td>0.120774</td>\n",
       "      <td>133491.584131</td>\n",
       "      <td>0.000120</td>\n",
       "      <td>1.191613e+08</td>\n",
       "      <td>3.613501e+05</td>\n",
       "      <td>-0.003211</td>\n",
       "    </tr>\n",
       "    <tr>\n",
       "      <th>2021-05-31</th>\n",
       "      <td>1.274865e+08</td>\n",
       "      <td>6.676373e-02</td>\n",
       "      <td>1.990701e+08</td>\n",
       "      <td>0.132409</td>\n",
       "      <td>149350.768199</td>\n",
       "      <td>0.000133</td>\n",
       "      <td>1.270745e+08</td>\n",
       "      <td>4.120589e+05</td>\n",
       "      <td>0.001970</td>\n",
       "    </tr>\n",
       "    <tr>\n",
       "      <th>2021-06-01</th>\n",
       "      <td>1.341481e+08</td>\n",
       "      <td>5.229643e-02</td>\n",
       "      <td>2.047182e+08</td>\n",
       "      <td>0.044303</td>\n",
       "      <td>154873.115627</td>\n",
       "      <td>0.000043</td>\n",
       "      <td>1.339931e+08</td>\n",
       "      <td>1.550416e+05</td>\n",
       "      <td>0.001896</td>\n",
       "    </tr>\n",
       "  </tbody>\n",
       "</table>\n",
       "</div>"
      ],
      "text/plain": [
       "                 account        return  total_turnover  turnover  \\\n",
       "datetime                                                           \n",
       "2021-05-20  9.995632e+07  2.466550e-17    8.736507e+07  0.873651   \n",
       "2021-05-21  9.982640e+07 -1.083940e-03    1.111444e+08  0.237898   \n",
       "2021-05-24  1.027768e+08  2.963750e-02    1.194876e+08  0.083576   \n",
       "2021-05-25  1.062162e+08  3.361199e-02    1.382232e+08  0.182295   \n",
       "2021-05-26  1.084508e+08  2.118614e-02    1.526029e+08  0.135382   \n",
       "2021-05-27  1.133868e+08  4.565754e-02    1.695500e+08  0.156265   \n",
       "2021-05-28  1.195226e+08  5.423392e-02    1.832442e+08  0.120774   \n",
       "2021-05-31  1.274865e+08  6.676373e-02    1.990701e+08  0.132409   \n",
       "2021-06-01  1.341481e+08  5.229643e-02    2.047182e+08  0.044303   \n",
       "\n",
       "               total_cost      cost         value          cash     bench  \n",
       "datetime                                                                   \n",
       "2021-05-20   43682.534709  0.000437  8.736507e+07  1.259125e+07  0.002734  \n",
       "2021-05-21   65255.487381  0.000216  9.166957e+07  8.156830e+06 -0.010076  \n",
       "2021-05-24   73439.649656  0.000082  9.494608e+07  7.830742e+06  0.004176  \n",
       "2021-05-25   88608.195368  0.000148  1.055348e+08  6.813652e+05  0.031595  \n",
       "2021-05-26  104343.490887  0.000148  1.050740e+08  3.376792e+06  0.000397  \n",
       "2021-05-27  119870.500629  0.000143  1.128657e+08  5.211738e+05  0.003315  \n",
       "2021-05-28  133491.584131  0.000120  1.191613e+08  3.613501e+05 -0.003211  \n",
       "2021-05-31  149350.768199  0.000133  1.270745e+08  4.120589e+05  0.001970  \n",
       "2021-06-01  154873.115627  0.000043  1.339931e+08  1.550416e+05  0.001896  "
      ]
     },
     "execution_count": 16,
     "metadata": {},
     "output_type": "execute_result"
    }
   ],
   "source": [
    "report_normal_df"
   ]
  },
  {
   "cell_type": "code",
   "execution_count": null,
   "metadata": {},
   "outputs": [],
   "source": []
  }
 ],
 "metadata": {
  "kernelspec": {
   "display_name": "Python 3",
   "language": "python",
   "name": "python3"
  },
  "language_info": {
   "codemirror_mode": {
    "name": "ipython",
    "version": 3
   },
   "file_extension": ".py",
   "mimetype": "text/x-python",
   "name": "python",
   "nbconvert_exporter": "python",
   "pygments_lexer": "ipython3",
   "version": "3.7.9"
  },
  "vscode": {
   "interpreter": {
    "hash": "caf831573a0ff294614842876d2763885d6da16fb80bd95fae4076843946dd1d"
   }
  }
 },
 "nbformat": 4,
 "nbformat_minor": 2
}
