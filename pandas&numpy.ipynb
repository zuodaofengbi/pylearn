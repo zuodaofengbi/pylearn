{
 "cells": [
  {
   "cell_type": "code",
   "execution_count": 2,
   "id": "3872dbaf",
   "metadata": {},
   "outputs": [],
   "source": [
    "import pandas as pd\n",
    "import numpy as np"
   ]
  },
  {
   "cell_type": "code",
   "execution_count": 18,
   "id": "43ddcd7e",
   "metadata": {},
   "outputs": [],
   "source": [
    "num1 = np.array([[1,2,3],[2,4,6],[3,4,5]])\n",
    "num2 = np.array([[3,4,5],[4,6,8],[5,6,7]])"
   ]
  },
  {
   "cell_type": "code",
   "execution_count": 19,
   "id": "1637a0b8",
   "metadata": {},
   "outputs": [
    {
     "name": "stdout",
     "output_type": "stream",
     "text": [
      "[[1 2 3]\n",
      " [2 4 6]\n",
      " [3 4 5]]\n",
      "[[3 4 5]\n",
      " [4 6 8]\n",
      " [5 6 7]]\n"
     ]
    }
   ],
   "source": [
    "print(num1)\n",
    "print(num2)"
   ]
  },
  {
   "cell_type": "markdown",
   "id": "47dc2b0e",
   "metadata": {},
   "source": [
    "## mean() 求均值"
   ]
  },
  {
   "cell_type": "code",
   "execution_count": 20,
   "id": "a6ba7859",
   "metadata": {},
   "outputs": [
    {
     "data": {
      "text/plain": [
       "3.3333333333333335"
      ]
     },
     "execution_count": 20,
     "metadata": {},
     "output_type": "execute_result"
    }
   ],
   "source": [
    "np.mean(num1)"
   ]
  },
  {
   "cell_type": "code",
   "execution_count": 21,
   "id": "e8685dba",
   "metadata": {},
   "outputs": [
    {
     "data": {
      "text/plain": [
       "5.333333333333333"
      ]
     },
     "execution_count": 21,
     "metadata": {},
     "output_type": "execute_result"
    }
   ],
   "source": [
    "np.mean(num2)"
   ]
  },
  {
   "cell_type": "markdown",
   "id": "1952a76a",
   "metadata": {},
   "source": [
    "**压缩行，对各列求均值"
   ]
  },
  {
   "cell_type": "code",
   "execution_count": 22,
   "id": "c80148bb",
   "metadata": {},
   "outputs": [
    {
     "name": "stdout",
     "output_type": "stream",
     "text": [
      "[2.         3.33333333 4.66666667] [4.         5.33333333 6.66666667]\n"
     ]
    }
   ],
   "source": [
    "h1 = np.mean(num1, 0)\n",
    "h2 = np.mean(num2, 0)\n",
    "print(h1, h2)"
   ]
  },
  {
   "cell_type": "markdown",
   "id": "18afa025",
   "metadata": {},
   "source": [
    "**压缩列，对各行求均值"
   ]
  },
  {
   "cell_type": "code",
   "execution_count": 23,
   "id": "13c6c87d",
   "metadata": {},
   "outputs": [
    {
     "name": "stdout",
     "output_type": "stream",
     "text": [
      "[2. 4. 4.] [4. 6. 6.]\n"
     ]
    }
   ],
   "source": [
    "l1 = np.mean(num1, 1)\n",
    "l2 = np.mean(num2, 1)\n",
    "print(l1, l2)"
   ]
  },
  {
   "cell_type": "code",
   "execution_count": null,
   "id": "e3fef08d",
   "metadata": {},
   "outputs": [],
   "source": []
  }
 ],
 "metadata": {
  "kernelspec": {
   "display_name": "Python 3",
   "language": "python",
   "name": "python3"
  },
  "language_info": {
   "codemirror_mode": {
    "name": "ipython",
    "version": 3
   },
   "file_extension": ".py",
   "mimetype": "text/x-python",
   "name": "python",
   "nbconvert_exporter": "python",
   "pygments_lexer": "ipython3",
   "version": "3.7.9"
  }
 },
 "nbformat": 4,
 "nbformat_minor": 5
}
