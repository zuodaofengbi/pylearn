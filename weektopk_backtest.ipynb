{
 "cells": [
  {
   "cell_type": "code",
   "execution_count": 1,
   "metadata": {},
   "outputs": [],
   "source": [
    "import sys, os\n",
    "import numpy as np\n",
    "import pandas as pd\n",
    "import qlib"
   ]
  },
  {
   "cell_type": "code",
   "execution_count": 2,
   "metadata": {},
   "outputs": [
    {
     "name": "stdout",
     "output_type": "stream",
     "text": [
      "D:\\py\\qlib\\scripts\\get_data.py\n"
     ]
    }
   ],
   "source": [
    "from pathlib import Path\n",
    "scripts_dir = Path(\"D:/py/qlib/scripts\")\n",
    "print(scripts_dir.joinpath(\"get_data.py\"))\n",
    "assert scripts_dir.joinpath(\"get_data.py\").exists()"
   ]
  },
  {
   "cell_type": "code",
   "execution_count": 3,
   "metadata": {},
   "outputs": [],
   "source": [
    "if not scripts_dir.joinpath(\"get_data.py\").exists():\n",
    "    # download get_data.py script\n",
    "    scripts_dir = Path(\"~/tmp/qlib_code/scripts\").expanduser().resolve()\n",
    "    scripts_dir.mkdir(parents=True, exist_ok=True)\n",
    "    import requests\n",
    "    with requests.get(\"https://raw.githubusercontent.com/microsoft/qlib/main/scripts/get_data.py\") as resp:\n",
    "        with open(scripts_dir.joinpath(\"get_data.py\"), \"wb\") as fp:\n",
    "            fp.write(resp.content)"
   ]
  },
  {
   "cell_type": "code",
   "execution_count": 4,
   "metadata": {},
   "outputs": [],
   "source": [
    "from qlib.constant import REG_CN\n",
    "from qlib.utils import exists_qlib_data, init_instance_by_config\n",
    "from qlib.workflow import R\n",
    "from qlib.workflow.record_temp import SignalRecord, PortAnaRecord\n",
    "from qlib.utils import flatten_dict"
   ]
  },
  {
   "cell_type": "code",
   "execution_count": 5,
   "metadata": {},
   "outputs": [
    {
     "name": "stderr",
     "output_type": "stream",
     "text": [
      "[6848:MainThread](2022-07-25 14:59:28,936) INFO - qlib.Initialization - [config.py:403] - default_conf: client.\n",
      "[6848:MainThread](2022-07-25 14:59:28,940) INFO - qlib.Initialization - [__init__.py:73] - qlib successfully initialized based on client settings.\n",
      "[6848:MainThread](2022-07-25 14:59:28,941) INFO - qlib.Initialization - [__init__.py:75] - data_path={'__DEFAULT_FREQ': WindowsPath('D:/py/qlib/.qlib/qlib_data/cn_data')}\n"
     ]
    }
   ],
   "source": [
    "provider_uri = \"D:/py/qlib/.qlib/qlib_data/cn_data\"  # target_dir\n",
    "# if not exists_qlib_data(provider_uri):\n",
    "#     print(f\"Qlib data is not found in {provider_uri}\")\n",
    "#     sys.path.append(str(scripts_dir))\n",
    "#     from get_data import GetData\n",
    "#     GetData().qlib_data(target_dir=provider_uri, region=REG_CN)\n",
    "qlib.init(provider_uri=provider_uri, region=REG_CN)"
   ]
  },
  {
   "cell_type": "code",
   "execution_count": 6,
   "metadata": {},
   "outputs": [],
   "source": [
    "market = \"all\"\n",
    "benchmark = \"SH000300\""
   ]
  },
  {
   "cell_type": "code",
   "execution_count": 7,
   "metadata": {},
   "outputs": [],
   "source": [
    "from qlib.data import D\n",
    "from qlib.data.filter import ExpressionDFilter\n",
    "from qlib.data.filter import NameDFilter"
   ]
  },
  {
   "cell_type": "code",
   "execution_count": 8,
   "metadata": {},
   "outputs": [
    {
     "name": "stdout",
     "output_type": "stream",
     "text": [
      "2021-01-04 00:00:00 2021-06-11 00:00:00\n",
      "2021-01-04 2021-06-11\n"
     ]
    }
   ],
   "source": [
    "instruments = D.instruments(market='all')\n",
    "fields = ['$close', '(Ref($close, -1)-$close)/$close', '(Ref($close, -2)-Ref($close, -1))/Ref($close, -1)', '(Ref($close, -3)-Ref($close, -2))/Ref($close, -2)', '(Ref($close, -4)-Ref($close, -3))/Ref($close, -3)', '(Ref($close, -5)-Ref($close, -4))/Ref($close, -4)', '(Ref($close, -6)-Ref($close, -5))/Ref($close, -5)', '(Ref($close, -7)-Ref($close, -6))/Ref($close, -6)']\n",
    "f_d = D.features(instruments, fields, start_time='2021-01-04', end_time='2021-06-11', freq='day')\n",
    "df = f_d\n",
    "df.index = df.index.get_level_values('datetime')\n",
    "print(df.index.min(), df.index.max())\n",
    "\n",
    "start_time = pd.to_datetime(df.index.min())\n",
    "end_time = pd.to_datetime(df.index.max())\n",
    "print(start_time.strftime('%Y-%m-%d'), end_time.strftime('%Y-%m-%d'))"
   ]
  },
  {
   "cell_type": "code",
   "execution_count": 9,
   "metadata": {},
   "outputs": [],
   "source": [
    "experiment_name=\"online_srv\""
   ]
  },
  {
   "cell_type": "code",
   "execution_count": 10,
   "metadata": {},
   "outputs": [
    {
     "name": "stderr",
     "output_type": "stream",
     "text": [
      "[6848:MainThread](2022-07-25 14:59:59,692) INFO - qlib.LSTM - [pytorch_lstm.py:58] - LSTM pytorch version...\n",
      "[6848:MainThread](2022-07-25 14:59:59,694) INFO - qlib.LSTM - [pytorch_lstm.py:104] - LSTM parameters setting:\n",
      "d_feat : 6\n",
      "hidden_size : 64\n",
      "num_layers : 2\n",
      "dropout : 0.1\n",
      "n_epochs : 15\n",
      "lr : 1e-05\n",
      "metric : loss\n",
      "batch_size : 800\n",
      "early_stop : 3\n",
      "optimizer : adam\n",
      "loss_type : mse\n",
      "visible_GPU : 0\n",
      "use_GPU : False\n",
      "seed : None\n"
     ]
    }
   ],
   "source": [
    "###################################\n",
    "# train model\n",
    "###################################\n",
    "# '2017-01-04', end_time='2022-02-28'\n",
    "data_handler_config = {\n",
    "    # \"start_time\": \"2017-01-04\",\n",
    "    \"start_time\": start_time, # \n",
    "    \"end_time\": end_time,\n",
    "    \"fit_start_time\": \"2021-01-04\",\n",
    "    \"fit_end_time\": \"2021-04-30\",\n",
    "    \"instruments\": market,\n",
    "    \"infer_processors\": [\n",
    "      {\n",
    "        \"class\": \"RobustZScoreNorm\",\n",
    "        \"kwargs\": {\n",
    "          \"fields_group\": \"feature\",\n",
    "          \"clip_outlier\": True\n",
    "        }\n",
    "      },\n",
    "      {\n",
    "        \"class\": \"Fillna\",\n",
    "        \"kwargs\": {\n",
    "          \"fields_group\": \"feature\"\n",
    "        }\n",
    "      }\n",
    "    ],\n",
    "    \"learn_processors\": [\n",
    "      {\n",
    "        \"class\": \"DropnaLabel\"\n",
    "      },\n",
    "      {\n",
    "        \"class\": \"CSRankNorm\",\n",
    "        \"kwargs\": {\n",
    "          \"fields_group\": \"label\"\n",
    "        }\n",
    "      }\n",
    "    ],\n",
    "    \"label\": [\n",
    "      \"Ref($close, -2) / Ref($close, -1) - 1\"\n",
    "    ]\n",
    "}\n",
    "\n",
    "task = {   \n",
    "    \"model\": {\n",
    "        \"class\": \"LSTM\",\n",
    "        \"module_path\": \"qlib.contrib.model.pytorch_lstm\",\n",
    "        \"kwargs\": {\n",
    "            \"d_feat\": 6,\n",
    "            \"hidden_size\": 64,\n",
    "            \"num_layers\": 2,\n",
    "            \"dropout\": 0.1,\n",
    "            \"dec_dropout\": 0.0,\n",
    "            \"n_epochs\": 15,\n",
    "            \"lr\": 1e-5,\n",
    "            \"early_stop\": 3,\n",
    "            \"batch_size\": 800,\n",
    "            \"metric\": \"loss\",\n",
    "            \"loss\": \"mse\",\n",
    "            \"optimizer\": \"adam\",\n",
    "            \"GPU\": 0\n",
    "        },\n",
    "    },\n",
    "    \"dataset\": {\n",
    "        \"class\": \"DatasetH\",\n",
    "        \"module_path\": \"qlib.data.dataset\",\n",
    "        \"kwargs\": {\n",
    "            \"handler\": {\n",
    "                \"class\": \"Alpha360\",\n",
    "                \"module_path\": \"qlib.contrib.data.handler\",\n",
    "                \"kwargs\": data_handler_config,\n",
    "            },\n",
    "            \"segments\": {\n",
    "                \"train\": (start_time, \"2021-04-30\"),\n",
    "                \"valid\": (\"2021-05-01\", \"2021-05-19\"),\n",
    "                \"test\": (\"2021-05-20\", \"2021-06-11\"),\n",
    "            },\n",
    "        },\n",
    "    },\n",
    "}\n",
    "\n",
    "# model initiaiton\n",
    "model = init_instance_by_config(task[\"model\"])\n",
    "dataset = init_instance_by_config(task[\"dataset\"])"
   ]
  },
  {
   "cell_type": "code",
   "execution_count": null,
   "metadata": {},
   "outputs": [],
   "source": [
    "# start exp to train model\n",
    "\n",
    "experiment_id = 'cn_backtest'\n",
    "# experiment_name: Optional[Text] = None,\n",
    "# recorder_id: Optional[Text] = None,\n",
    "\n",
    "# with R.start(experiment_name=experiment_name, experimen\n",
    "# t_id=experiment_id):\n",
    "with R.start(experiment_name=experiment_name):\n",
    "    R.log_params(**flatten_dict(task))\n",
    "    model.fit(dataset)\n",
    "    R.save_objects(trained_model=model)\n",
    "    rid = R.get_recorder().id\n",
    "    # prediction\n",
    "    recorder = R.get_recorder()\n",
    "    sr = SignalRecord(model, dataset, recorder)\n",
    "    sr.generate()"
   ]
  },
  {
   "cell_type": "code",
   "execution_count": null,
   "metadata": {},
   "outputs": [],
   "source": [
    "###################################\n",
    "# prediction, backtest & analysis\n",
    "###################################\n",
    "port_analysis_config = {\n",
    "    \"executor\": {\n",
    "        \"class\": \"SimulatorExecutor\",\n",
    "        \"module_path\": \"qlib.backtest.executor\",\n",
    "        \"kwargs\": {\n",
    "            \"time_per_step\": \"day\",\n",
    "            \"generate_portfolio_metrics\": True,\n",
    "        },\n",
    "    },\n",
    "    \"strategy\": {\n",
    "        \"class\": \"WeekTopkDropoutStrategy\",\n",
    "        \"module_path\": \"qlib.contrib.strategy.signal_strategy\",\n",
    "        \"kwargs\": {\n",
    "            \"model\": model,\n",
    "            \"dataset\": dataset,\n",
    "            \"topk\": 50,\n",
    "            \"n_drop\": 5,\n",
    "        },\n",
    "    },\n",
    "    \"backtest\": {\n",
    "        \"start_time\": \"2021-05-20\",\n",
    "        \"end_time\": \"2021-06-01\",\n",
    "        \"account\": 100000000,\n",
    "        \"benchmark\": benchmark,\n",
    "        \"exchange_kwargs\": {\n",
    "            \"freq\": \"day\",\n",
    "            \"limit_threshold\": 0.095,\n",
    "            \"deal_price\": \"close\",\n",
    "            \"open_cost\": 0.0005,\n",
    "            \"close_cost\": 0.0015,\n",
    "            \"min_cost\": 5,\n",
    "        },\n",
    "    },\n",
    "}\n",
    "\n",
    "# backtest and analysis\n",
    "with R.start(experiment_name=\"backtest_analysis\"):\n",
    "    recorder = R.get_recorder(recorder_id=rid, experiment_name=\"online_srv\")\n",
    "    model = recorder.load_object(\"trained_model\")\n",
    "\n",
    "    # prediction\n",
    "    recorder = R.get_recorder()\n",
    "    ba_rid = recorder.id\n",
    "    sr = SignalRecord(model, dataset, recorder)\n",
    "    sr.generate()\n",
    "\n",
    "    # backtest & analysis\n",
    "    par = PortAnaRecord(recorder, port_analysis_config, \"day\")\n",
    "    par.generate()"
   ]
  },
  {
   "cell_type": "code",
   "execution_count": null,
   "metadata": {},
   "outputs": [],
   "source": [
    "from qlib.contrib.report import analysis_model, analysis_position\n",
    "from qlib.data import D\n",
    "recorder = R.get_recorder(recorder_id=ba_rid, experiment_name=\"online_srv\")\n",
    "print(recorder)\n",
    "pred_df = recorder.load_object(\"pred.pkl\")\n",
    "pred_df_dates = pred_df.index.get_level_values(level='datetime')\n",
    "report_normal_df = recorder.load_object(\"portfolio_analysis/report_normal_1day.pkl\")\n",
    "positions = recorder.load_object(\"portfolio_analysis/positions_normal_1day.pkl\")\n",
    "analysis_df = recorder.load_object(\"portfolio_analysis/port_analysis_1day.pkl\")"
   ]
  },
  {
   "cell_type": "code",
   "execution_count": null,
   "metadata": {},
   "outputs": [],
   "source": []
  }
 ],
 "metadata": {
  "kernelspec": {
   "display_name": "Python 3.7.9 64-bit",
   "language": "python",
   "name": "python3"
  },
  "language_info": {
   "codemirror_mode": {
    "name": "ipython",
    "version": 3
   },
   "file_extension": ".py",
   "mimetype": "text/x-python",
   "name": "python",
   "nbconvert_exporter": "python",
   "pygments_lexer": "ipython3",
   "version": "3.7.9"
  },
  "orig_nbformat": 4,
  "vscode": {
   "interpreter": {
    "hash": "caf831573a0ff294614842876d2763885d6da16fb80bd95fae4076843946dd1d"
   }
  }
 },
 "nbformat": 4,
 "nbformat_minor": 2
}
